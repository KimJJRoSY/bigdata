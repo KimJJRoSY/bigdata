{
 "cells": [
  {
   "cell_type": "code",
   "execution_count": 1,
   "metadata": {},
   "outputs": [
    {
     "name": "stdout",
     "output_type": "stream",
     "text": [
      "Requirement already satisfied: pandas in /Library/Frameworks/Python.framework/Versions/3.12/lib/python3.12/site-packages (2.2.3)\n",
      "Requirement already satisfied: numpy>=1.26.0 in /Library/Frameworks/Python.framework/Versions/3.12/lib/python3.12/site-packages (from pandas) (2.1.3)\n",
      "Requirement already satisfied: python-dateutil>=2.8.2 in /Users/gimjeongju/Library/Python/3.12/lib/python/site-packages (from pandas) (2.9.0.post0)\n",
      "Requirement already satisfied: pytz>=2020.1 in /Library/Frameworks/Python.framework/Versions/3.12/lib/python3.12/site-packages (from pandas) (2024.2)\n",
      "Requirement already satisfied: tzdata>=2022.7 in /Library/Frameworks/Python.framework/Versions/3.12/lib/python3.12/site-packages (from pandas) (2024.2)\n",
      "Requirement already satisfied: six>=1.5 in /Users/gimjeongju/Library/Python/3.12/lib/python/site-packages (from python-dateutil>=2.8.2->pandas) (1.17.0)\n",
      "\n",
      "\u001b[1m[\u001b[0m\u001b[34;49mnotice\u001b[0m\u001b[1;39;49m]\u001b[0m\u001b[39;49m A new release of pip is available: \u001b[0m\u001b[31;49m24.0\u001b[0m\u001b[39;49m -> \u001b[0m\u001b[32;49m24.3.1\u001b[0m\n",
      "\u001b[1m[\u001b[0m\u001b[34;49mnotice\u001b[0m\u001b[1;39;49m]\u001b[0m\u001b[39;49m To update, run: \u001b[0m\u001b[32;49mpip3 install --upgrade pip\u001b[0m\n",
      "Note: you may need to restart the kernel to use updated packages.\n"
     ]
    }
   ],
   "source": [
    "pip install pandas "
   ]
  },
  {
   "cell_type": "code",
   "execution_count": null,
   "metadata": {},
   "outputs": [
    {
     "name": "stdout",
     "output_type": "stream",
     "text": [
      "No CSV files found in the directory.\n"
     ]
    }
   ],
   "source": [
    "import pandas as pd\n",
    "import os\n",
    "\n",
    "# CSV 파일들이 저장된 디렉토리 경로\n",
    "input_folder = '/Users/gimjeongju/Downloads/094.관광 특화 말뭉치 데이터/3.개방데이터/1.데이터/Training/01.원천데이터/TS_1.관광콘텐츠_2.문화활동_1.축제공연행사'\n",
    "output_file = './merged_output.csv'\n",
    "\n",
    "# 디렉토리에서 모든 CSV 파일 읽기\n",
    "all_files = [f for f in os.listdir(input_folder) if f.endswith('.csv')]\n",
    "\n",
    "if not all_files:\n",
    "    print(\"No CSV files found in the directory.\")\n",
    "else:\n",
    "    dataframes = []\n",
    "    for file in all_files:\n",
    "        file_path = os.path.join(input_folder, file)\n",
    "        try:\n",
    "            df = pd.read_csv(file_path)\n",
    "            if not df.empty:\n",
    "                dataframes.append(df)\n",
    "            else:\n",
    "                print(f\"File {file} is empty. Skipping.\")\n",
    "        except Exception as e:\n",
    "            print(f\"Error reading {file}: {e}\")\n",
    "\n",
    "    if dataframes:\n",
    "        # 데이터프레임 합치기\n",
    "        merged_df = pd.concat(dataframes, ignore_index=True)\n",
    "        # 합친 데이터프레임을 새로운 CSV 파일로 저장\n",
    "        merged_df.to_csv(output_file, index=False)\n",
    "        print(f\"CSV files merged and saved to {output_file}\")\n",
    "    else:\n",
    "        print(\"No valid CSV files to merge.\")\n"
   ]
  },
  {
   "cell_type": "code",
   "execution_count": null,
   "metadata": {},
   "outputs": [],
   "source": []
  }
 ],
 "metadata": {
  "kernelspec": {
   "display_name": "Python 3",
   "language": "python",
   "name": "python3"
  },
  "language_info": {
   "codemirror_mode": {
    "name": "ipython",
    "version": 3
   },
   "file_extension": ".py",
   "mimetype": "text/x-python",
   "name": "python",
   "nbconvert_exporter": "python",
   "pygments_lexer": "ipython3",
   "version": "3.12.4"
  }
 },
 "nbformat": 4,
 "nbformat_minor": 2
}
